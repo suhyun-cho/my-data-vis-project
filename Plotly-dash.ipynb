{
 "cells": [
  {
   "cell_type": "code",
   "execution_count": 2,
   "metadata": {},
   "outputs": [],
   "source": [
    "import numpy as np\n",
    "import pandas as pd\n",
    "from pandas import Series, DataFrame\n",
    "import matplotlib as mpl\n",
    "import matplotlib.pyplot as plt\n",
    "import seaborn as sns\n",
    "sns.set_style('darkgrid')\n",
    "plt.style.use('ggplot')\n",
    "#plt.style.use('fivethirtyeight')\n",
    "import scipy as sp\n",
    "import re"
   ]
  },
  {
   "cell_type": "code",
   "execution_count": 3,
   "metadata": {},
   "outputs": [],
   "source": [
    "# warning 무시\n",
    "import warnings\n",
    "warnings.filterwarnings(action='ignore')"
   ]
  },
  {
   "cell_type": "markdown",
   "metadata": {},
   "source": [
    "### 데이터 불러오기"
   ]
  },
  {
   "cell_type": "code",
   "execution_count": 4,
   "metadata": {},
   "outputs": [],
   "source": [
    "# 날짜 데이터 불러올 때 \n",
    "df=pd.read_excel('./data/raw_data_세부.xlsx',encoding='euc-kr',parse_dates={'날짜':[\"년\",\"월\"]})\n",
    "df=df.rename(columns={'날짜':'date','분류1':'device','분류2':'shopping_type','서비스분류1':'service','종류1':'type1','종류2':'type2','값':'value'})\n",
    "\n",
    "# 종합_쇼핑기여 제외 (종합 만 )\n",
    "df=df[df['shopping_type']=='종합']\n",
    "#df.head(10)"
   ]
  },
  {
   "cell_type": "code",
   "execution_count": 5,
   "metadata": {},
   "outputs": [
    {
     "name": "stdout",
     "output_type": "stream",
     "text": [
      "['프런트' '검색' '뉴스' '서브']\n"
     ]
    },
    {
     "data": {
      "text/html": [
       "<div>\n",
       "<style scoped>\n",
       "    .dataframe tbody tr th:only-of-type {\n",
       "        vertical-align: middle;\n",
       "    }\n",
       "\n",
       "    .dataframe tbody tr th {\n",
       "        vertical-align: top;\n",
       "    }\n",
       "\n",
       "    .dataframe thead th {\n",
       "        text-align: right;\n",
       "    }\n",
       "</style>\n",
       "<table border=\"1\" class=\"dataframe\">\n",
       "  <thead>\n",
       "    <tr style=\"text-align: right;\">\n",
       "      <th></th>\n",
       "      <th>date</th>\n",
       "      <th>device</th>\n",
       "      <th>shopping_type</th>\n",
       "      <th>service</th>\n",
       "      <th>type1</th>\n",
       "      <th>type2</th>\n",
       "      <th>value</th>\n",
       "      <th>service_group</th>\n",
       "    </tr>\n",
       "  </thead>\n",
       "  <tbody>\n",
       "    <tr>\n",
       "      <th>5</th>\n",
       "      <td>2018-09-01</td>\n",
       "      <td>PC</td>\n",
       "      <td>종합</td>\n",
       "      <td>프런트</td>\n",
       "      <td>매출 구분</td>\n",
       "      <td>직접광고</td>\n",
       "      <td>354000000.0</td>\n",
       "      <td>프런트</td>\n",
       "    </tr>\n",
       "    <tr>\n",
       "      <th>6</th>\n",
       "      <td>2018-09-01</td>\n",
       "      <td>PC</td>\n",
       "      <td>종합</td>\n",
       "      <td>프런트</td>\n",
       "      <td>매출 구분</td>\n",
       "      <td>네트워크</td>\n",
       "      <td>59873778.0</td>\n",
       "      <td>프런트</td>\n",
       "    </tr>\n",
       "    <tr>\n",
       "      <th>7</th>\n",
       "      <td>2018-09-01</td>\n",
       "      <td>PC</td>\n",
       "      <td>종합</td>\n",
       "      <td>프런트</td>\n",
       "      <td>매출 구분</td>\n",
       "      <td>쇼핑</td>\n",
       "      <td>464000000.0</td>\n",
       "      <td>프런트</td>\n",
       "    </tr>\n",
       "    <tr>\n",
       "      <th>9</th>\n",
       "      <td>2018-09-01</td>\n",
       "      <td>PC</td>\n",
       "      <td>종합</td>\n",
       "      <td>프런트</td>\n",
       "      <td>매출 구분</td>\n",
       "      <td>총매출</td>\n",
       "      <td>877000000.0</td>\n",
       "      <td>프런트</td>\n",
       "    </tr>\n",
       "    <tr>\n",
       "      <th>22</th>\n",
       "      <td>2018-09-01</td>\n",
       "      <td>PC</td>\n",
       "      <td>종합</td>\n",
       "      <td>검색</td>\n",
       "      <td>매출 구분</td>\n",
       "      <td>제휴</td>\n",
       "      <td>857000000.0</td>\n",
       "      <td>검색</td>\n",
       "    </tr>\n",
       "  </tbody>\n",
       "</table>\n",
       "</div>"
      ],
      "text/plain": [
       "         date device shopping_type service  type1 type2        value  \\\n",
       "5  2018-09-01     PC            종합     프런트  매출 구분  직접광고  354000000.0   \n",
       "6  2018-09-01     PC            종합     프런트  매출 구분  네트워크   59873778.0   \n",
       "7  2018-09-01     PC            종합     프런트  매출 구분    쇼핑  464000000.0   \n",
       "9  2018-09-01     PC            종합     프런트  매출 구분   총매출  877000000.0   \n",
       "22 2018-09-01     PC            종합      검색  매출 구분    제휴  857000000.0   \n",
       "\n",
       "   service_group  \n",
       "5            프런트  \n",
       "6            프런트  \n",
       "7            프런트  \n",
       "9            프런트  \n",
       "22            검색  "
      ]
     },
     "execution_count": 5,
     "metadata": {},
     "output_type": "execute_result"
    }
   ],
   "source": [
    "# 광고 타입 (직접광고, 네트워크 ...) 별 매출\n",
    "## 서비스 전체매출\n",
    "data_adtype_sales=df.query('type2!=[\"PV\",\"UV\",\"일평균방문횟수\"] and device==\"PC\" and type1 == \"매출 구분\"')\n",
    "data_adtype_sales=data_adtype_sales.dropna(subset=['value'])        # 'value'컬럼에 NA있을때 제거\n",
    "\n",
    "# service컬럼에 '뉴스' 또는 '기사박스' 일경우 '뉴스'로 통일. \n",
    "## TV,스푼피드,여행,이글루스,자동차,증권정보,코인,허브,이슈트렌드는 모두 '서브'로 통일\n",
    "data_adtype_sales['service_group']=np.where(data_adtype_sales['service'].isin(['기사박스']),'뉴스',data_adtype_sales['service'] )\n",
    "data_adtype_sales['service_group']=np.where(data_adtype_sales['service'].isin(['TV','스푼피드','여행','이글루스','자동차','증권정보','코인','허브','이슈트렌드']),'서브',data_adtype_sales['service_group'])\n",
    "print(data_adtype_sales['service_group'].unique())\n",
    "data_adtype_sales.head()"
   ]
  },
  {
   "cell_type": "code",
   "execution_count": 18,
   "metadata": {},
   "outputs": [],
   "source": [
    "# 광고구분없이 서비스별(프런트, 검색, 뉴스, 서브) 매출 (groupby sum)\n",
    "data_adtype_sales_groupsum=pd.DataFrame(data_adtype_sales.groupby(['date','service_group'], as_index=False)['value'].sum()) "
   ]
  },
  {
   "cell_type": "code",
   "execution_count": 19,
   "metadata": {},
   "outputs": [],
   "source": [
    "# PC, 서비스별 트래픽(PV,UV) 데이터\n",
    "data_traffic=df.query('device==\"PC\" and type1==\"트래픽\" and (type2==\"UV\" or type2==\"PV\") ')[['date', 'device','service','type1','type2','value']]\n",
    "data_traffic['service_group']=np.where(data_traffic['service'].isin(['기사박스']),'뉴스',data_traffic['service'])\n",
    "data_traffic['service_group']=np.where(data_traffic['service'].isin(['TV','스푼피드','여행','이글루스','자동차','증권정보','코인','허브','이슈트렌드']),'서브',data_traffic['service_group'])"
   ]
  },
  {
   "cell_type": "code",
   "execution_count": 20,
   "metadata": {},
   "outputs": [],
   "source": [
    "data_traffic_groupsum=pd.DataFrame(data_traffic.groupby(['date','service_group','type2'],as_index=False)['value'].sum())"
   ]
  },
  {
   "cell_type": "code",
   "execution_count": 10,
   "metadata": {},
   "outputs": [],
   "source": [
    "sales =data_adtype_sales.groupby(['date','service_group']).sum()\n",
    "sales_pcts=pd.DataFrame(round((sales/sales.groupby(level=0).sum())*100,2).reset_index()['value'])\n",
    "data_adtype_sales_groupsum=pd.concat([data_adtype_sales_groupsum, sales_pcts],axis=1)\n",
    "data_adtype_sales_groupsum.columns=['date','service_group','value','pcts']"
   ]
  },
  {
   "cell_type": "code",
   "execution_count": 11,
   "metadata": {},
   "outputs": [],
   "source": [
    "data_adtype_sales_groupsum['inc_pcts']=round(((sales.groupby(level=1).pct_change())*100).reset_index()['value'],2)"
   ]
  },
  {
   "cell_type": "code",
   "execution_count": 21,
   "metadata": {},
   "outputs": [],
   "source": [
    "# 서비스별, 광고종류별 매출\n",
    "### bar-plot으로 총매출 그리고, line-plot으로 직접광고, 쇼핑, 네트워크, 제휴 각각 그리기\n",
    "### 프런트, 검색, 뉴스, 서브 각각 다른 subplot 4개로\n",
    "data_adtype_sales_groupsum2=pd.DataFrame(data_adtype_sales.groupby(['date','service_group','type2'],as_index=False)['value'].sum())"
   ]
  },
  {
   "cell_type": "code",
   "execution_count": 22,
   "metadata": {},
   "outputs": [],
   "source": [
    "# 프론트 트래픽\n",
    "data_traffic_front=df.query('device==\"PC\" and service==\"프런트\" and type1==\"트래픽\" and (type2==\"UV\" or type2==\"PV\") ')[['date', 'device','service','type1','type2','value']]"
   ]
  },
  {
   "cell_type": "code",
   "execution_count": 23,
   "metadata": {},
   "outputs": [],
   "source": [
    "#  PC, 트래픽 평균단가\n",
    "data_traffic_price=df.query('device==\"PC\" and type1==\"트래픽 평균단가\"')\n",
    "data_traffic_price= data_traffic_price.dropna(subset=['value'])\n",
    "\n",
    "# 서비스 카테고리 4개로 축소 : 프런트, 검색, 뉴스, 서브\n",
    "data_traffic_price['service_group']=np.where(data_traffic_price['service'].isin(['기사박스']),'뉴스', data_traffic_price['service'])\n",
    "data_traffic_price['service_group']=np.where(data_traffic_price['service'].isin(['TV','스푼피드','여행','이글루스','자동차','증권정보','코인','허브','이슈트렌드']),'서브',data_traffic_price['service_group'])\n",
    "\n",
    "# 소수점 \n",
    "data_traffic_price['value']=round(data_traffic_price['value'],2)"
   ]
  },
  {
   "cell_type": "code",
   "execution_count": 24,
   "metadata": {},
   "outputs": [],
   "source": [
    "data_traffic_price_groupsum=pd.DataFrame(data_traffic_price.groupby(['date','service_group','type2'])['value'].sum().reset_index())"
   ]
  },
  {
   "cell_type": "markdown",
   "metadata": {},
   "source": [
    "## Plotly-dash\n",
    "[참고1] https://dash.plot.ly <br>\n",
    "[참고2] https://dash.plot.ly/dash-core-components\n"
   ]
  },
  {
   "cell_type": "markdown",
   "metadata": {},
   "source": [
    "> ### Part2. Layout\n",
    "\n",
    "> ### Part3. Basic Dash Callbacks\n",
    "* "
   ]
  },
  {
   "cell_type": "code",
   "execution_count": null,
   "metadata": {},
   "outputs": [],
   "source": []
  },
  {
   "cell_type": "code",
   "execution_count": null,
   "metadata": {},
   "outputs": [
    {
     "name": "stdout",
     "output_type": "stream",
     "text": [
      "Running on http://127.0.0.1:8050/\n",
      "Running on http://127.0.0.1:8050/\n",
      "Running on http://127.0.0.1:8050/\n",
      "Running on http://127.0.0.1:8050/\n",
      "Running on http://127.0.0.1:8050/\n",
      "Running on http://127.0.0.1:8050/\n",
      "Running on http://127.0.0.1:8050/\n",
      "Running on http://127.0.0.1:8050/\n",
      "Debugger PIN: 226-693-756\n",
      "Debugger PIN: 226-693-756\n",
      "Debugger PIN: 226-693-756\n",
      "Debugger PIN: 226-693-756\n",
      "Debugger PIN: 226-693-756\n",
      "Debugger PIN: 226-693-756\n",
      "Debugger PIN: 226-693-756\n",
      "Debugger PIN: 226-693-756\n",
      " * Serving Flask app \"__main__\" (lazy loading)\n",
      " * Environment: production\n",
      "   WARNING: Do not use the development server in a production environment.\n",
      "   Use a production WSGI server instead.\n",
      " * Debug mode: on\n"
     ]
    }
   ],
   "source": [
    "import dash\n",
    "import dash_core_components as dcc\n",
    "import dash_html_components as html\n",
    "\n",
    "external_stylesheets = ['https://codepen.io/chriddyp/pen/bWLwgP.css']\n",
    "\n",
    "app = dash.Dash(__name__, external_stylesheets=external_stylesheets)\n",
    "\n",
    "app.layout = html.Div(children=[\n",
    "    html.H1(children='KPI-Dash'),\n",
    "\n",
    "    html.Div(children='''\n",
    "        Dash: zum traffic and sales visualization\n",
    "    '''),\n",
    "\n",
    "    dcc.Graph(\n",
    "        id='example-graph',\n",
    "        figure={\n",
    "            'data': [\n",
    "                {'x': list(data_traffic_groupsum.query('service_group==\"프런트\"and type2==\"PV\"')['date']),\n",
    "                 'y':list(data_traffic_groupsum.query('service_group==\"프런트\"and type2==\"PV\"')['value']), \n",
    "                 'type': 'line', \n",
    "                 'name': '프런트_PV'},\n",
    "                \n",
    "                  {'x': list(data_traffic_groupsum.query('service_group==\"검색\"and type2==\"PV\"')['date']),\n",
    "                 'y':list(data_traffic_groupsum.query('service_group==\"검색\"and type2==\"PV\"')['value']), \n",
    "                 'type': 'line', \n",
    "                 'name': '검색_PV'},\n",
    "                \n",
    "                {'x': list(data_adtype_sales_groupsum.query('service_group==\"프런트\"')['date']), \n",
    "                 'y': list(data_adtype_sales_groupsum.query('service_group==\"프런트\"')['value']), \n",
    "                 'type': 'bar', \n",
    "                 'name': '프런트_매출'},\n",
    "                \n",
    "                {'x': list(data_adtype_sales_groupsum.query('service_group==\"검색\"')['date']), \n",
    "                 'y': list(data_adtype_sales_groupsum.query('service_group==\"검색\"')['value']), \n",
    "                 'type': 'bar', \n",
    "                 'name': '검색_매출'},\n",
    "            ],\n",
    "            'layout': {\n",
    "                'title': 'PC-서비스별-트래픽-매출'\n",
    "            }\n",
    "        }\n",
    "    )\n",
    "])\n",
    "\n",
    "if __name__ == '__main__':\n",
    "    app.run_server(debug=True, use_reloader=False)"
   ]
  },
  {
   "cell_type": "code",
   "execution_count": null,
   "metadata": {},
   "outputs": [],
   "source": []
  },
  {
   "cell_type": "code",
   "execution_count": null,
   "metadata": {},
   "outputs": [],
   "source": []
  },
  {
   "cell_type": "code",
   "execution_count": null,
   "metadata": {},
   "outputs": [],
   "source": []
  },
  {
   "cell_type": "code",
   "execution_count": null,
   "metadata": {},
   "outputs": [],
   "source": []
  },
  {
   "cell_type": "code",
   "execution_count": null,
   "metadata": {},
   "outputs": [],
   "source": []
  }
 ],
 "metadata": {
  "kernelspec": {
   "display_name": "Python 3",
   "language": "python",
   "name": "python3"
  },
  "language_info": {
   "codemirror_mode": {
    "name": "ipython",
    "version": 3
   },
   "file_extension": ".py",
   "mimetype": "text/x-python",
   "name": "python",
   "nbconvert_exporter": "python",
   "pygments_lexer": "ipython3",
   "version": "3.7.3"
  }
 },
 "nbformat": 4,
 "nbformat_minor": 2
}
