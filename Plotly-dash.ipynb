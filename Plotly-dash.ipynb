{
 "cells": [
  {
   "cell_type": "markdown",
   "metadata": {},
   "source": [
    "# Plotly-dash\n",
    "[참고] https://dash.plot.ly/  <br>\n",
    "[참고2] https://dash.plot.ly/dash-core-components <br>\n",
    "[참고3] https://dash.plot.ly/interactive-graphing"
   ]
  },
  {
   "cell_type": "markdown",
   "metadata": {},
   "source": [
    "## Part2. Dash Layout\n",
    "* plotly dash 실행 서버\n",
    "    * http://127.0.0.1:8050/\n",
    "\n",
    "> Dash구조\n",
    "* layout은 html.Div 와 dcc.Graph로 구성되어 있음.\n",
    "* dash_html_components 라이브러리는 모든 HTML태그의 컴포넌트가 들어있다. \n",
    "* dash_core_components 는 인터렉티브한 하이레벨의 컴포넌트를 제공. React.js 라이브러리기반\n",
    "* children 프로퍼티는 특별하다. \n",
    "    * html.H1(children='Hello Dash') 와 html.H1('Hello Dash') 은 같다.\n",
    "\n",
    "> 구성요소\n",
    "* app.run_server(debug=True, use_reloader=False) 은 사용자가 코드를 변경했을 때 자동으로 Dash를 refresh 해주는 기능\n",
    "\n",
    "> Visualization에 대한\n",
    "* dash_core_components라이브러리는 Graph라 불리는 컴포넌트를 갖고 있다.\n",
    "    * Graphh 는 plotly.js 오픈소스를 사용해서 인터렉티브한 데이터 시각화를 렌더해준다 .\n",
    "* figure 는 plotly.py에서 사용되는 figure와 같은 기능. \n",
    "\n",
    "> Markdown\n",
    "* dash_core_components 라이브러리의 Markdown 컴포넌트 사용. <br>\n",
    "markdown_text = ''' <br>\n",
    "마크다운 내용 입력 <br>\n",
    "'''"
   ]
  },
  {
   "cell_type": "markdown",
   "metadata": {},
   "source": [
    "## Part3. Basic Dash Callbacks\n",
    "\n",
    "> Dash Layout\n",
    "* app.callback 을 통해서 input과 output 가 표현된다.\n",
    "* Dash에서 input과 output은 특정 컴포넌트의 속성이다. \n",
    "* conponent_id 와 component_property 키워드는 옵션이다.\n",
    "\n",
    "    => 새로운 텍스트를 띄우기 위해서는 children을 업데이트하고, 새로운 데이터를 띄우기 위해서는 dcc.Graph 의 figure를 업데이트한다.\n"
   ]
  },
  {
   "cell_type": "markdown",
   "metadata": {},
   "source": [
    "### [ error사항 해결방법 ]\n",
    "* 아래처럼 use_reloader=False 값 추가해야됨.\n",
    "\n",
    "if __name__ == '__main__':  <br>\n",
    "    app.run_server(debug=True, use_reloader=False)<br>\n",
    "    \n",
    "    \n",
    "    "
   ]
  },
  {
   "cell_type": "code",
   "execution_count": 3,
   "metadata": {},
   "outputs": [],
   "source": [
    "import numpy as np\n",
    "import pandas as pd\n",
    "from pandas import Series, DataFrame\n",
    "import matplotlib as mpl\n",
    "import matplotlib.pyplot as plt\n",
    "import seaborn as sns\n",
    "sns.set_style('darkgrid')\n",
    "plt.style.use('ggplot')\n",
    "#plt.style.use('fivethirtyeight')\n",
    "import scipy as sp\n",
    "import re"
   ]
  },
  {
   "cell_type": "code",
   "execution_count": 4,
   "metadata": {},
   "outputs": [],
   "source": [
    "# warning 무시\n",
    "import warnings\n",
    "warnings.filterwarnings(action='ignore')"
   ]
  },
  {
   "cell_type": "markdown",
   "metadata": {},
   "source": [
    "### 데이터 불러오기"
   ]
  },
  {
   "cell_type": "code",
   "execution_count": 8,
   "metadata": {},
   "outputs": [],
   "source": [
    "# 날짜 데이터 불러올 때 \n",
    "df=pd.read_excel('./data/raw_data_세부.xlsx',encoding='euc-kr',parse_dates={'날짜':[\"년\",\"월\"]})\n",
    "df=df.rename(columns={'날짜':'date','분류1':'device','분류2':'shopping_type','서비스분류1':'service','종류1':'type1','종류2':'type2','값':'value'})\n",
    "\n",
    "# 종합_쇼핑기여 제외 (종합 만 )\n",
    "df=df[df['shopping_type']=='종합']\n",
    "#df.head(10)"
   ]
  },
  {
   "cell_type": "code",
   "execution_count": 9,
   "metadata": {},
   "outputs": [],
   "source": [
    "# 광고 타입 (직접광고, 네트워크 ...) 별 매출\n",
    "## 서비스 전체매출\n",
    "data_adtype_sales=df.query('type2!=[\"PV\",\"UV\",\"일평균방문횟수\"] and device==\"PC\" and type1 == \"매출 구분\"')\n",
    "data_adtype_sales=data_adtype_sales.dropna(subset=['value'])        # 'value'컬럼에 NA있을때 제거\n",
    "\n",
    "# service컬럼에 '뉴스' 또는 '기사박스' 일경우 '뉴스'로 통일. \n",
    "## TV,스푼피드,여행,이글루스,자동차,증권정보,코인,허브,이슈트렌드는 모두 '서브'로 통일\n",
    "data_adtype_sales['service_group']=np.where(data_adtype_sales['service'].isin(['기사박스']),'뉴스',data_adtype_sales['service'] )\n",
    "data_adtype_sales['service_group']=np.where(data_adtype_sales['service'].isin(['TV','스푼피드','여행','이글루스','자동차','증권정보','코인','허브','이슈트렌드']),'서브',data_adtype_sales['service_group'])\n",
    "#print(data_adtype_sales['service_group'].unique())"
   ]
  },
  {
   "cell_type": "code",
   "execution_count": 10,
   "metadata": {},
   "outputs": [],
   "source": [
    "# 광고구분없이 서비스별(프런트, 검색, 뉴스, 서브) 매출 (groupby sum)\n",
    "data_adtype_sales_groupsum=pd.DataFrame(data_adtype_sales.groupby(['date','service_group'], as_index=False)['value'].sum()) "
   ]
  },
  {
   "cell_type": "code",
   "execution_count": 11,
   "metadata": {},
   "outputs": [],
   "source": [
    "# PC, 서비스별 트래픽(PV,UV) 데이터\n",
    "data_traffic=df.query('device==\"PC\" and type1==\"트래픽\" and (type2==\"UV\" or type2==\"PV\") ')[['date', 'device','service','type1','type2','value']]\n",
    "data_traffic['service_group']=np.where(data_traffic['service'].isin(['기사박스']),'뉴스',data_traffic['service'])\n",
    "data_traffic['service_group']=np.where(data_traffic['service'].isin(['TV','스푼피드','여행','이글루스','자동차','증권정보','코인','허브','이슈트렌드']),'서브',data_traffic['service_group'])"
   ]
  },
  {
   "cell_type": "code",
   "execution_count": 12,
   "metadata": {},
   "outputs": [],
   "source": [
    "data_traffic_groupsum=pd.DataFrame(data_traffic.groupby(['date','service_group','type2'],as_index=False)['value'].sum())"
   ]
  },
  {
   "cell_type": "code",
   "execution_count": 13,
   "metadata": {},
   "outputs": [],
   "source": [
    "sales =data_adtype_sales.groupby(['date','service_group']).sum()\n",
    "sales_pcts=pd.DataFrame(round((sales/sales.groupby(level=0).sum())*100,2).reset_index()['value'])\n",
    "data_adtype_sales_groupsum=pd.concat([data_adtype_sales_groupsum, sales_pcts],axis=1)\n",
    "data_adtype_sales_groupsum.columns=['date','service_group','value','pcts']"
   ]
  },
  {
   "cell_type": "code",
   "execution_count": 14,
   "metadata": {},
   "outputs": [],
   "source": [
    "data_adtype_sales_groupsum['inc_pcts']=round(((sales.groupby(level=1).pct_change())*100).reset_index()['value'],2)"
   ]
  },
  {
   "cell_type": "code",
   "execution_count": 15,
   "metadata": {},
   "outputs": [],
   "source": [
    "# 서비스별, 광고종류별 매출\n",
    "### bar-plot으로 총매출 그리고, line-plot으로 직접광고, 쇼핑, 네트워크, 제휴 각각 그리기\n",
    "### 프런트, 검색, 뉴스, 서브 각각 다른 subplot 4개로\n",
    "data_adtype_sales_groupsum2=pd.DataFrame(data_adtype_sales.groupby(['date','service_group','type2'],as_index=False)['value'].sum())"
   ]
  },
  {
   "cell_type": "code",
   "execution_count": 16,
   "metadata": {},
   "outputs": [],
   "source": [
    "# 프론트 트래픽\n",
    "data_traffic_front=df.query('device==\"PC\" and service==\"프런트\" and type1==\"트래픽\" and (type2==\"UV\" or type2==\"PV\") ')[['date', 'device','service','type1','type2','value']]"
   ]
  },
  {
   "cell_type": "code",
   "execution_count": 17,
   "metadata": {},
   "outputs": [],
   "source": [
    "#  PC, 트래픽 평균단가\n",
    "data_traffic_price=df.query('device==\"PC\" and type1==\"트래픽 평균단가\"')\n",
    "data_traffic_price= data_traffic_price.dropna(subset=['value'])\n",
    "\n",
    "# 서비스 카테고리 4개로 축소 : 프런트, 검색, 뉴스, 서브\n",
    "data_traffic_price['service_group']=np.where(data_traffic_price['service'].isin(['기사박스']),'뉴스', data_traffic_price['service'])\n",
    "data_traffic_price['service_group']=np.where(data_traffic_price['service'].isin(['TV','스푼피드','여행','이글루스','자동차','증권정보','코인','허브','이슈트렌드']),'서브',data_traffic_price['service_group'])\n",
    "\n",
    "# 소수점 \n",
    "data_traffic_price['value']=round(data_traffic_price['value'],2)"
   ]
  },
  {
   "cell_type": "code",
   "execution_count": 18,
   "metadata": {},
   "outputs": [],
   "source": [
    "data_traffic_price_groupsum=pd.DataFrame(data_traffic_price.groupby(['date','service_group','type2'])['value'].sum().reset_index())"
   ]
  },
  {
   "cell_type": "markdown",
   "metadata": {},
   "source": [
    "----------------------------------\n",
    "## Dash-plot\n",
    "#### PC-서비스별-트래픽-매출"
   ]
  },
  {
   "cell_type": "code",
   "execution_count": 21,
   "metadata": {},
   "outputs": [
    {
     "name": "stdout",
     "output_type": "stream",
     "text": [
      "Running on http://127.0.0.1:8050/\n",
      "Running on http://127.0.0.1:8050/\n",
      "Running on http://127.0.0.1:8050/\n",
      "Debugger PIN: 646-371-916\n",
      "Debugger PIN: 646-371-916\n",
      "Debugger PIN: 646-371-916\n",
      " * Serving Flask app \"__main__\" (lazy loading)\n",
      " * Environment: production\n",
      "   WARNING: This is a development server. Do not use it in a production deployment.\n",
      "   Use a production WSGI server instead.\n",
      " * Debug mode: on\n"
     ]
    }
   ],
   "source": [
    "import dash\n",
    "import dash_core_components as dcc\n",
    "import dash_html_components as html\n",
    "\n",
    "external_stylesheets = ['https://codepen.io/chriddyp/pen/bWLwgP.css']\n",
    "\n",
    "app = dash.Dash(__name__, external_stylesheets=external_stylesheets)\n",
    "\n",
    "app.layout = html.Div(children=[\n",
    "    html.H1(children='KPI-Dash'),\n",
    "\n",
    "    html.Div(children='''\n",
    "        Dash: zum traffic and sales visualization\n",
    "    '''),\n",
    "\n",
    "    dcc.Graph(\n",
    "        id='example-graph',\n",
    "        figure={\n",
    "            'data': [\n",
    "                {'x': list(data_traffic_groupsum.query('service_group==\"프런트\"and type2==\"PV\"')['date']),\n",
    "                 'y':list(data_traffic_groupsum.query('service_group==\"프런트\"and type2==\"PV\"')['value']), \n",
    "                 'type': 'line', \n",
    "                 'name': '프런트_PV'},\n",
    "                \n",
    "                  {'x': list(data_traffic_groupsum.query('service_group==\"검색\"and type2==\"PV\"')['date']),\n",
    "                 'y':list(data_traffic_groupsum.query('service_group==\"검색\"and type2==\"PV\"')['value']), \n",
    "                 'type': 'line', \n",
    "                 'name': '검색_PV'},\n",
    "                \n",
    "                {'x': list(data_traffic_groupsum.query('service_group==\"뉴스\"and type2==\"PV\"')['date']),\n",
    "                 'y':list(data_traffic_groupsum.query('service_group==\"뉴스\"and type2==\"PV\"')['value']), \n",
    "                 'type': 'line', \n",
    "                 'name': '뉴스_PV'},\n",
    "                \n",
    "                {'x': list(data_traffic_groupsum.query('service_group==\"서브\"and type2==\"PV\"')['date']),\n",
    "                 'y':list(data_traffic_groupsum.query('service_group==\"서브\"and type2==\"PV\"')['value']), \n",
    "                 'type': 'line', \n",
    "                 'name': '서브_PV'},\n",
    "                \n",
    "                ### 매출\n",
    "                {'x': list(data_adtype_sales_groupsum.query('service_group==\"프런트\"')['date']), \n",
    "                 'y': list(data_adtype_sales_groupsum.query('service_group==\"프런트\"')['value']), \n",
    "                 'type': 'bar', \n",
    "                 'name': '프런트_매출'},\n",
    "                \n",
    "                {'x': list(data_adtype_sales_groupsum.query('service_group==\"검색\"')['date']), \n",
    "                 'y': list(data_adtype_sales_groupsum.query('service_group==\"검색\"')['value']), \n",
    "                 'type': 'bar', \n",
    "                 'name': '검색_매출'},\n",
    "                \n",
    "                {'x': list(data_adtype_sales_groupsum.query('service_group==\"뉴스\"')['date']), \n",
    "                 'y': list(data_adtype_sales_groupsum.query('service_group==\"뉴스\"')['value']), \n",
    "                 'type': 'bar', \n",
    "                 'name': '뉴스_매출'},\n",
    "                                \n",
    "                {'x': list(data_adtype_sales_groupsum.query('service_group==\"서브\"')['date']), \n",
    "                 'y': list(data_adtype_sales_groupsum.query('service_group==\"서브\"')['value']), \n",
    "                 'type': 'bar', \n",
    "                 'name': '서브_매출'},\n",
    "                \n",
    "            ],\n",
    "            'layout': {\n",
    "                'title': 'PC-서비스별-트래픽-매출'\n",
    "            }\n",
    "        }\n",
    "    )\n",
    "])\n",
    "\n",
    "if __name__ == '__main__':\n",
    "    app.run_server(debug=True, use_reloader=False)"
   ]
  },
  {
   "cell_type": "markdown",
   "metadata": {},
   "source": [
    "### Tab 기능 구현\n",
    "[참고] https://dash.plot.ly/dash-core-components"
   ]
  },
  {
   "cell_type": "code",
   "execution_count": 22,
   "metadata": {},
   "outputs": [
    {
     "name": "stdout",
     "output_type": "stream",
     "text": [
      "Running on http://127.0.0.1:8050/\n",
      "Running on http://127.0.0.1:8050/\n",
      "Running on http://127.0.0.1:8050/\n",
      "Running on http://127.0.0.1:8050/\n",
      "Debugger PIN: 151-868-202\n",
      "Debugger PIN: 151-868-202\n",
      "Debugger PIN: 151-868-202\n",
      "Debugger PIN: 151-868-202\n",
      " * Serving Flask app \"__main__\" (lazy loading)\n",
      " * Environment: production\n",
      "   WARNING: This is a development server. Do not use it in a production deployment.\n",
      "   Use a production WSGI server instead.\n",
      " * Debug mode: on\n"
     ]
    }
   ],
   "source": [
    "import dash\n",
    "import dash_html_components as html\n",
    "import dash_core_components as dcc\n",
    "\n",
    "from dash.dependencies import Input, Output\n",
    "\n",
    "external_stylesheets = ['https://codepen.io/chriddyp/pen/bWLwgP.css']\n",
    "\n",
    "app = dash.Dash(__name__, external_stylesheets=external_stylesheets)\n",
    "\n",
    "app.layout = html.Div([\n",
    "    dcc.Tabs(id=\"tabs\", value='tab-1', children=[\n",
    "        dcc.Tab(label='Tab one', value='tab-1'),\n",
    "        dcc.Tab(label='Tab two', value='tab-2'),\n",
    "    ]),\n",
    "    html.Div(id='tabs-content')\n",
    "])\n",
    "\n",
    "@app.callback(Output('tabs-content', 'children'),\n",
    "              [Input('tabs', 'value')])\n",
    "def render_content(tab):\n",
    "    if tab == 'tab-1':\n",
    "        return html.Div([\n",
    "            html.H3('Tab content 1')\n",
    "        ])\n",
    "    elif tab == 'tab-2':\n",
    "        return html.Div([\n",
    "            html.H3('Tab content 2')\n",
    "        ])\n",
    "\n",
    "\n",
    "if __name__ == '__main__':\n",
    "    app.run_server(debug=True,use_reloader=False)"
   ]
  },
  {
   "cell_type": "code",
   "execution_count": null,
   "metadata": {},
   "outputs": [],
   "source": []
  },
  {
   "cell_type": "code",
   "execution_count": null,
   "metadata": {},
   "outputs": [],
   "source": []
  },
  {
   "cell_type": "code",
   "execution_count": null,
   "metadata": {},
   "outputs": [],
   "source": []
  }
 ],
 "metadata": {
  "hide_input": false,
  "kernelspec": {
   "display_name": "Python 3",
   "language": "python",
   "name": "python3"
  },
  "language_info": {
   "codemirror_mode": {
    "name": "ipython",
    "version": 3
   },
   "file_extension": ".py",
   "mimetype": "text/x-python",
   "name": "python",
   "nbconvert_exporter": "python",
   "pygments_lexer": "ipython3",
   "version": "3.7.3"
  },
  "varInspector": {
   "cols": {
    "lenName": 16,
    "lenType": 16,
    "lenVar": 40
   },
   "kernels_config": {
    "python": {
     "delete_cmd_postfix": "",
     "delete_cmd_prefix": "del ",
     "library": "var_list.py",
     "varRefreshCmd": "print(var_dic_list())"
    },
    "r": {
     "delete_cmd_postfix": ") ",
     "delete_cmd_prefix": "rm(",
     "library": "var_list.r",
     "varRefreshCmd": "cat(var_dic_list()) "
    }
   },
   "types_to_exclude": [
    "module",
    "function",
    "builtin_function_or_method",
    "instance",
    "_Feature"
   ],
   "window_display": false
  }
 },
 "nbformat": 4,
 "nbformat_minor": 2
}
